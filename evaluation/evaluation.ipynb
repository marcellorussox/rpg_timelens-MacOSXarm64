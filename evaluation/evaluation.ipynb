{
 "cells": [
  {
   "metadata": {},
   "cell_type": "markdown",
   "source": [
    "# Toolbox di Valutazione per l'Interpolazione di Frame con TimeLens\n",
    "\n",
    "## Introduzione\n",
    "Questo notebook implementa il calcolo delle metriche MSE, PSNR, SSIM e LPIPS per la valutazione di frame interpolati. I dati devono essere organizzati in una struttura specifica:\n",
    "\n",
    "### Struttura delle Cartelle\n",
    "    \n",
    "    test_folder\n",
    "     ├─ ev_test1\n",
    "     │   ├─ datasetA\n",
    "     │   │   ├─ GT\n",
    "     │   │   └─ Timelens\n",
    "     │   └─ datasetB\n",
    "     │       ├─ GT\n",
    "     │       └─ Timelens\n",
    "     ├─ ev_test2\n",
    "     │   ├─ datasetC\n",
    "     │   └─ ...\n",
    "     ...\n",
    "            \n",
    "## Requisiti\n",
    "- Python 3.x\n",
    "- Librerie: `numpy`, `cv2`, `lpips`"
   ],
   "id": "6aa52ddf6a937ba7"
  },
  {
   "metadata": {
    "ExecuteTime": {
     "end_time": "2025-01-19T17:49:18.455081Z",
     "start_time": "2025-01-19T17:33:17.104735Z"
    }
   },
   "cell_type": "code",
   "source": [
    "from evaluation import evaluate_tests  # Importiamo la funzione chiave\n",
    "\n",
    "# Esempio di utilizzo:\n",
    "\n",
    "test_folder = \"test\"       # La cartella che contiene ev_test1, ev_test2, ...\n",
    "csv_output = \"metrics.csv\"  # Nome/Path del file CSV di output\n",
    "num_skips = 0                       # Processa 1 frame sì e 1 no\n",
    "grayscale = False                   # Se vuoi la scala di grigi, metti True\n",
    "\n",
    "# Richiamiamo la funzione importata\n",
    "evaluate_tests(\n",
    "    test_folder=test_folder,\n",
    "    csv_path=csv_output,\n",
    "    num_skips=num_skips,\n",
    "    grayscale=grayscale\n",
    ")\n",
    "\n",
    "print(\"\\n--- Fine valutazione. Il file CSV con i risultati è stato creato/aggiornato. ---\")"
   ],
   "id": "2e5b75cd56d5722a",
   "outputs": [
    {
     "name": "stdout",
     "output_type": "stream",
     "text": [
      "\n",
      "[Test: ev_test, Dataset: baloon_popping]\n",
      "  MSE:   19.3768\n",
      "  PSNR:  33.7382\n",
      "  SSIM:  0.7603\n",
      "  LPIPS: 0.0990\n",
      "\n",
      "[Test: ev_test, Dataset: fountaine]\n",
      "  MSE:   161.8567\n",
      "  PSNR:  25.9264\n",
      "  SSIM:  0.6641\n",
      "  LPIPS: 0.2584\n",
      "\n",
      "[Test: ev_test, Dataset: spinning_plate]\n",
      "  MSE:   15.8307\n",
      "  PSNR:  34.1848\n",
      "  SSIM:  0.7956\n",
      "  LPIPS: 0.0876\n",
      "\n",
      "[Test: ev_test, Dataset: spinning_umbrella]\n",
      "  MSE:   25.9369\n",
      "  PSNR:  34.0202\n",
      "  SSIM:  0.8459\n",
      "  LPIPS: 0.0679\n",
      "\n",
      "[Test: ev_test2, Dataset: fountaine]\n",
      "  MSE:   162.3000\n",
      "  PSNR:  25.9236\n",
      "  SSIM:  0.6640\n",
      "  LPIPS: 0.2590\n",
      "\n",
      "[Test: ev_test2, Dataset: spinning_plate]\n",
      "  MSE:   15.8356\n",
      "  PSNR:  34.2165\n",
      "  SSIM:  0.7966\n",
      "  LPIPS: 0.0874\n",
      "\n",
      "[Test: ev_test2, Dataset: spinning_umbrella]\n",
      "  MSE:   25.9506\n",
      "  PSNR:  34.0164\n",
      "  SSIM:  0.8459\n",
      "  LPIPS: 0.0678\n",
      "\n",
      "[Test: ev_test2, Dataset: water_baloon]\n",
      "  MSE:   44.4061\n",
      "  PSNR:  36.1169\n",
      "  SSIM:  0.9329\n",
      "  LPIPS: 0.0456\n",
      "\n",
      "--- Fine valutazione. Il file CSV con i risultati è stato creato/aggiornato. ---\n"
     ]
    }
   ],
   "execution_count": 2
  },
  {
   "metadata": {},
   "cell_type": "code",
   "outputs": [],
   "execution_count": null,
   "source": "",
   "id": "c6519ec0b17c5a0a"
  }
 ],
 "metadata": {
  "kernelspec": {
   "display_name": "Python 3",
   "language": "python",
   "name": "python3"
  },
  "language_info": {
   "codemirror_mode": {
    "name": "ipython",
    "version": 2
   },
   "file_extension": ".py",
   "mimetype": "text/x-python",
   "name": "python",
   "nbconvert_exporter": "python",
   "pygments_lexer": "ipython2",
   "version": "2.7.6"
  }
 },
 "nbformat": 4,
 "nbformat_minor": 5
}
